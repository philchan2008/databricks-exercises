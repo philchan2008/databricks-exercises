{
 "cells": [
  {
   "cell_type": "code",
   "execution_count": 0,
   "metadata": {
    "application/vnd.databricks.v1+cell": {
     "cellMetadata": {
      "byteLimit": 2048000,
      "rowLimit": 10000
     },
     "inputWidgets": {},
     "nuid": "60ebd4db-7081-4c66-963d-3393095ac18e",
     "showTitle": false,
     "tableResultSettingsMap": {},
     "title": ""
    }
   },
   "outputs": [
    {
     "output_type": "stream",
     "name": "stdout",
     "output_type": "stream",
     "text": [
      "Selected year: 2025\nSelected year: 2025\nSelected year: 2025\n"
     ]
    }
   ],
   "source": [
    "dbutils.widgets.text(\"year_param1\", \"2025\", \"Enter Year\")\n",
    "dbutils.widgets.combobox(\"year_param2\", \"2025\", [str(year) for year in range(2000, 2026)])\n",
    "year_value = dbutils.widgets.get(\"year_param1\")\n",
    "print(f\"Selected year: {year_value}\")\n",
    "\n",
    "dbutils.widgets.dropdown(\"year_param3\", \"2025\", [str(year) for year in range(2000, 2026)])\n",
    "year_value = dbutils.widgets.get(\"year_param3\")\n",
    "print(f\"Selected year: {year_value}\")\n",
    "\n",
    "dbutils.widgets.multiselect(\"year_param4\", \"2025\", [str(year) for year in range(2000, 2026)])\n",
    "year_value = dbutils.widgets.get(\"year_param4\")\n",
    "print(f\"Selected year: {year_value}\")   \n"
   ]
  }
 ],
 "metadata": {
  "application/vnd.databricks.v1+notebook": {
   "computePreferences": null,
   "dashboards": [],
   "environmentMetadata": {
    "base_environment": "",
    "environment_version": "2"
   },
   "inputWidgetPreferences": null,
   "language": "python",
   "notebookMetadata": {
    "pythonIndentUnit": 4
   },
   "notebookName": "Notebook with Input Parameters",
   "widgets": {
    "year_param1": {
     "currentValue": "2025",
     "nuid": "faf35e0f-2b1e-4080-9df7-100084189c7e",
     "typedWidgetInfo": {
      "autoCreated": false,
      "defaultValue": "2025",
      "label": "Enter Year",
      "name": "year_param1",
      "options": {
       "widgetDisplayType": "Text",
       "validationRegex": null
      },
      "parameterDataType": "String"
     },
     "widgetInfo": {
      "widgetType": "text",
      "defaultValue": "2025",
      "label": "Enter Year",
      "name": "year_param1",
      "options": {
       "widgetType": "text",
       "autoCreated": null,
       "validationRegex": null
      }
     }
    },
    "year_param2": {
     "currentValue": "",
     "nuid": "975afa7f-6696-4278-8ea1-46955b5a8650",
     "typedWidgetInfo": {
      "autoCreated": false,
      "defaultValue": "2025",
      "label": null,
      "name": "year_param2",
      "options": {
       "widgetDisplayType": "Dropdown",
       "choices": [
        "2000",
        "2001",
        "2002",
        "2003",
        "2004",
        "2005",
        "2006",
        "2007",
        "2008",
        "2009",
        "2010",
        "2011",
        "2012",
        "2013",
        "2014",
        "2015",
        "2016",
        "2017",
        "2018",
        "2019",
        "2020",
        "2021",
        "2022",
        "2023",
        "2024",
        "2025"
       ],
       "fixedDomain": false,
       "multiselect": false
      },
      "parameterDataType": "String"
     },
     "widgetInfo": {
      "widgetType": "combobox",
      "defaultValue": "2025",
      "label": null,
      "name": "year_param2",
      "options": {
       "widgetType": "dropdown",
       "autoCreated": null,
       "choices": [
        "2000",
        "2001",
        "2002",
        "2003",
        "2004",
        "2005",
        "2006",
        "2007",
        "2008",
        "2009",
        "2010",
        "2011",
        "2012",
        "2013",
        "2014",
        "2015",
        "2016",
        "2017",
        "2018",
        "2019",
        "2020",
        "2021",
        "2022",
        "2023",
        "2024",
        "2025"
       ]
      }
     }
    },
    "year_param3": {
     "currentValue": "2025",
     "nuid": "2e18356a-8038-4097-b9a7-90c6c251fa18",
     "typedWidgetInfo": {
      "autoCreated": false,
      "defaultValue": "2025",
      "label": null,
      "name": "year_param3",
      "options": {
       "widgetDisplayType": "Dropdown",
       "choices": [
        "2000",
        "2001",
        "2002",
        "2003",
        "2004",
        "2005",
        "2006",
        "2007",
        "2008",
        "2009",
        "2010",
        "2011",
        "2012",
        "2013",
        "2014",
        "2015",
        "2016",
        "2017",
        "2018",
        "2019",
        "2020",
        "2021",
        "2022",
        "2023",
        "2024",
        "2025"
       ],
       "fixedDomain": true,
       "multiselect": false
      },
      "parameterDataType": "String"
     },
     "widgetInfo": {
      "widgetType": "dropdown",
      "defaultValue": "2025",
      "label": null,
      "name": "year_param3",
      "options": {
       "widgetType": "dropdown",
       "autoCreated": null,
       "choices": [
        "2000",
        "2001",
        "2002",
        "2003",
        "2004",
        "2005",
        "2006",
        "2007",
        "2008",
        "2009",
        "2010",
        "2011",
        "2012",
        "2013",
        "2014",
        "2015",
        "2016",
        "2017",
        "2018",
        "2019",
        "2020",
        "2021",
        "2022",
        "2023",
        "2024",
        "2025"
       ]
      }
     }
    },
    "year_param4": {
     "currentValue": "2025",
     "nuid": "f53bb0f6-2b02-4df3-9509-9b630d8914fe",
     "typedWidgetInfo": {
      "autoCreated": false,
      "defaultValue": "2025",
      "label": null,
      "name": "year_param4",
      "options": {
       "widgetDisplayType": "Dropdown",
       "choices": [
        "2000",
        "2001",
        "2002",
        "2003",
        "2004",
        "2005",
        "2006",
        "2007",
        "2008",
        "2009",
        "2010",
        "2011",
        "2012",
        "2013",
        "2014",
        "2015",
        "2016",
        "2017",
        "2018",
        "2019",
        "2020",
        "2021",
        "2022",
        "2023",
        "2024",
        "2025"
       ],
       "fixedDomain": true,
       "multiselect": true
      },
      "parameterDataType": "String"
     },
     "widgetInfo": {
      "widgetType": "multiselect",
      "defaultValue": "2025",
      "label": null,
      "name": "year_param4",
      "options": {
       "widgetType": "dropdown",
       "autoCreated": false,
       "choices": [
        "2000",
        "2001",
        "2002",
        "2003",
        "2004",
        "2005",
        "2006",
        "2007",
        "2008",
        "2009",
        "2010",
        "2011",
        "2012",
        "2013",
        "2014",
        "2015",
        "2016",
        "2017",
        "2018",
        "2019",
        "2020",
        "2021",
        "2022",
        "2023",
        "2024",
        "2025"
       ]
      }
     }
    }
   }
  },
  "language_info": {
   "name": "python"
  }
 },
 "nbformat": 4,
 "nbformat_minor": 0
}