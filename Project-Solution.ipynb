{
 "cells": [
  {
   "cell_type": "code",
   "execution_count": 0,
   "metadata": {
    "application/vnd.databricks.v1+cell": {
     "cellMetadata": {
      "byteLimit": 2048000,
      "rowLimit": 10000
     },
     "inputWidgets": {},
     "nuid": "51afe150-c91c-49fd-b2f1-fe9687f2affe",
     "showTitle": false,
     "tableResultSettingsMap": {
      "0": {
       "dataGridStateBlob": "{\"version\":1,\"tableState\":{\"columnPinning\":{\"left\":[\"#row_number#\"],\"right\":[]},\"columnSizing\":{},\"columnVisibility\":{}},\"settings\":{\"columns\":{}},\"syncTimestamp\":1754484896718}",
       "filterBlob": null,
       "queryPlanFiltersBlob": null,
       "tableResultIndex": 0
      }
     },
     "title": ""
    }
   },
   "outputs": [
    {
     "output_type": "display_data",
     "data": {
      "text/html": [
       "<style scoped>\n",
       "  .table-result-container {\n",
       "    max-height: 300px;\n",
       "    overflow: auto;\n",
       "  }\n",
       "  table, th, td {\n",
       "    border: 1px solid black;\n",
       "    border-collapse: collapse;\n",
       "  }\n",
       "  th, td {\n",
       "    padding: 5px;\n",
       "  }\n",
       "  th {\n",
       "    text-align: left;\n",
       "  }\n",
       "</style><div class='table-result-container'><table class='table-result'><thead style='background-color: white'><tr><th>sale_id</th><th>store_id</th><th>product_id</th><th>sale_date</th><th>quantity</th><th>total_amount</th></tr></thead><tbody><tr><td>sale_301</td><td>16.0</td><td>15</td><td>2022-12-17</td><td>47</td><td>399.21</td></tr><tr><td>sale_327</td><td>15.0</td><td>6</td><td>2022-04-16</td><td>-4</td><td>-50.0</td></tr><tr><td>sale_339</td><td>15.0</td><td>16</td><td>2021-10-05</td><td>55</td><td>1892.32</td></tr><tr><td>sale_396</td><td>6.0</td><td>50</td><td>2022-12-02</td><td>51</td><td>1555.74</td></tr><tr><td>sale_435</td><td>5.0</td><td>44</td><td>2022-10-13</td><td>86</td><td>2515.89</td></tr><tr><td>sale_472</td><td>9.0</td><td>49</td><td>2020-09-26</td><td>84</td><td>1178.18</td></tr><tr><td>sale_681</td><td>3.0</td><td>30</td><td>2022-03-04</td><td>94</td><td>2311.25</td></tr><tr><td>sale_782</td><td>7.0</td><td>34</td><td>2021-05-19</td><td>51</td><td>2133.53</td></tr><tr><td>sale_865</td><td>10.0</td><td>12</td><td>2021-07-01</td><td>39</td><td>1581.28</td></tr><tr><td>sale_871</td><td>16.0</td><td>44</td><td>2022-01-07</td><td>90</td><td>2001.19</td></tr></tbody></table></div>"
      ]
     },
     "metadata": {
      "application/vnd.databricks.v1+output": {
       "addedWidgets": {},
       "aggData": [],
       "aggError": "",
       "aggOverflow": false,
       "aggSchema": [],
       "aggSeriesLimitReached": false,
       "aggType": "",
       "arguments": {},
       "columnCustomDisplayInfos": {},
       "data": [
        [
         "sale_301",
         16.0,
         15,
         "2022-12-17",
         47,
         399.21
        ],
        [
         "sale_327",
         15.0,
         6,
         "2022-04-16",
         -4,
         -50.0
        ],
        [
         "sale_339",
         15.0,
         16,
         "2021-10-05",
         55,
         1892.32
        ],
        [
         "sale_396",
         6.0,
         50,
         "2022-12-02",
         51,
         1555.74
        ],
        [
         "sale_435",
         5.0,
         44,
         "2022-10-13",
         86,
         2515.89
        ],
        [
         "sale_472",
         9.0,
         49,
         "2020-09-26",
         84,
         1178.18
        ],
        [
         "sale_681",
         3.0,
         30,
         "2022-03-04",
         94,
         2311.25
        ],
        [
         "sale_782",
         7.0,
         34,
         "2021-05-19",
         51,
         2133.53
        ],
        [
         "sale_865",
         10.0,
         12,
         "2021-07-01",
         39,
         1581.28
        ],
        [
         "sale_871",
         16.0,
         44,
         "2022-01-07",
         90,
         2001.19
        ]
       ],
       "datasetInfos": [],
       "dbfsResultPath": null,
       "isJsonSchema": true,
       "metadata": {},
       "overflow": false,
       "plotOptions": {
        "customPlotOptions": {},
        "displayType": "table",
        "pivotAggregation": null,
        "pivotColumns": null,
        "xColumns": null,
        "yColumns": null
       },
       "removedWidgets": [],
       "schema": [
        {
         "metadata": "{}",
         "name": "sale_id",
         "type": "\"string\""
        },
        {
         "metadata": "{}",
         "name": "store_id",
         "type": "\"double\""
        },
        {
         "metadata": "{}",
         "name": "product_id",
         "type": "\"integer\""
        },
        {
         "metadata": "{\"__detected_date_formats\": \"yyyy-M-d\"}",
         "name": "sale_date",
         "type": "\"date\""
        },
        {
         "metadata": "{}",
         "name": "quantity",
         "type": "\"integer\""
        },
        {
         "metadata": "{}",
         "name": "total_amount",
         "type": "\"double\""
        }
       ],
       "type": "table"
      }
     },
     "output_type": "display_data"
    },
    {
     "output_type": "display_data",
     "data": {
      "text/html": [
       "<style scoped>\n",
       "  .table-result-container {\n",
       "    max-height: 300px;\n",
       "    overflow: auto;\n",
       "  }\n",
       "  table, th, td {\n",
       "    border: 1px solid black;\n",
       "    border-collapse: collapse;\n",
       "  }\n",
       "  th, td {\n",
       "    padding: 5px;\n",
       "  }\n",
       "  th {\n",
       "    text-align: left;\n",
       "  }\n",
       "</style><div class='table-result-container'><table class='table-result'><thead style='background-color: white'><tr><th>store_id</th><th>store_region</th><th>store_size</th><th>open_date</th></tr></thead><tbody><tr><td>1.0</td><td>West</td><td>2263.0</td><td>null</td></tr><tr><td>3.0</td><td>West</td><td>4989.0</td><td>2000-08-23</td></tr><tr><td>4.0</td><td>West</td><td>4942.0</td><td>2016-08-12</td></tr><tr><td>7.0</td><td>North</td><td>null</td><td>2005-07-19</td></tr><tr><td>8.0</td><td>West</td><td>691.0</td><td>null</td></tr><tr><td>11.0</td><td>East</td><td>null</td><td>2018-04-22</td></tr><tr><td>13.0</td><td>West</td><td>null</td><td>2009-10-03</td></tr><tr><td>14.0</td><td>North</td><td>1116.0</td><td>2003-06-30</td></tr><tr><td>18.0</td><td>West</td><td>1191.0</td><td>2016-01-23</td></tr><tr><td>19.0</td><td>North</td><td>null</td><td>2018-10-12</td></tr></tbody></table></div>"
      ]
     },
     "metadata": {
      "application/vnd.databricks.v1+output": {
       "addedWidgets": {},
       "aggData": [],
       "aggError": "",
       "aggOverflow": false,
       "aggSchema": [],
       "aggSeriesLimitReached": false,
       "aggType": "",
       "arguments": {},
       "columnCustomDisplayInfos": {},
       "data": [
        [
         1.0,
         "West",
         2263.0,
         null
        ],
        [
         3.0,
         "West",
         4989.0,
         "2000-08-23"
        ],
        [
         4.0,
         "West",
         4942.0,
         "2016-08-12"
        ],
        [
         7.0,
         "North",
         null,
         "2005-07-19"
        ],
        [
         8.0,
         "West",
         691.0,
         null
        ],
        [
         11.0,
         "East",
         null,
         "2018-04-22"
        ],
        [
         13.0,
         "West",
         null,
         "2009-10-03"
        ],
        [
         14.0,
         "North",
         1116.0,
         "2003-06-30"
        ],
        [
         18.0,
         "West",
         1191.0,
         "2016-01-23"
        ],
        [
         19.0,
         "North",
         null,
         "2018-10-12"
        ]
       ],
       "datasetInfos": [],
       "dbfsResultPath": null,
       "isJsonSchema": true,
       "metadata": {},
       "overflow": false,
       "plotOptions": {
        "customPlotOptions": {},
        "displayType": "table",
        "pivotAggregation": null,
        "pivotColumns": null,
        "xColumns": null,
        "yColumns": null
       },
       "removedWidgets": [],
       "schema": [
        {
         "metadata": "{}",
         "name": "store_id",
         "type": "\"double\""
        },
        {
         "metadata": "{}",
         "name": "store_region",
         "type": "\"string\""
        },
        {
         "metadata": "{}",
         "name": "store_size",
         "type": "\"double\""
        },
        {
         "metadata": "{\"__detected_date_formats\": \"yyyy-M-d\"}",
         "name": "open_date",
         "type": "\"date\""
        }
       ],
       "type": "table"
      }
     },
     "output_type": "display_data"
    }
   ],
   "source": [
    "sales_df = spark.read.option(\"header\", \"true\").option(\"inferSchema\", \"true\").csv(\"/Volumes/upload/default/files/sales_data.csv\")\n",
    "store_df = spark.read.option(\"header\", \"true\").option(\"inferSchema\", \"true\").csv(\"/Volumes/upload/default/files/store_data.csv\")\n",
    "display(sales_df.sample(fraction=0.01))\n",
    "display(store_df.sample(fraction=0.4))"
   ]
  },
  {
   "cell_type": "code",
   "execution_count": 0,
   "metadata": {
    "application/vnd.databricks.v1+cell": {
     "cellMetadata": {
      "byteLimit": 2048000,
      "rowLimit": 10000
     },
     "inputWidgets": {},
     "nuid": "5eafab28-153d-4a5b-ba3c-0dd7aabdb386",
     "showTitle": false,
     "tableResultSettingsMap": {},
     "title": ""
    }
   },
   "outputs": [
    {
     "output_type": "display_data",
     "data": {
      "text/html": [
       "<style scoped>\n",
       "  .table-result-container {\n",
       "    max-height: 300px;\n",
       "    overflow: auto;\n",
       "  }\n",
       "  table, th, td {\n",
       "    border: 1px solid black;\n",
       "    border-collapse: collapse;\n",
       "  }\n",
       "  th, td {\n",
       "    padding: 5px;\n",
       "  }\n",
       "  th {\n",
       "    text-align: left;\n",
       "  }\n",
       "</style><div class='table-result-container'><table class='table-result'><thead style='background-color: white'><tr><th>store_id</th><th>store_region</th><th>store_size</th><th>open_date</th></tr></thead><tbody><tr><td>3.0</td><td>West</td><td>4989.0</td><td>2000-08-23</td></tr><tr><td>4.0</td><td>West</td><td>4942.0</td><td>2016-08-12</td></tr><tr><td>7.0</td><td>North</td><td>2606.2</td><td>2005-07-19</td></tr><tr><td>9.0</td><td>North</td><td>3653.0</td><td>2018-12-24</td></tr><tr><td>11.0</td><td>East</td><td>2606.2</td><td>2018-04-22</td></tr><tr><td>12.0</td><td>West</td><td>840.0</td><td>2000-03-22</td></tr><tr><td>13.0</td><td>West</td><td>2606.2</td><td>2009-10-03</td></tr><tr><td>16.0</td><td>East</td><td>2606.2</td><td>2003-10-01</td></tr><tr><td>17.0</td><td>East</td><td>2606.2</td><td>2010-09-23</td></tr><tr><td>18.0</td><td>West</td><td>1191.0</td><td>2016-01-23</td></tr><tr><td>20.0</td><td>North</td><td>4867.0</td><td>2019-11-25</td></tr></tbody></table></div>"
      ]
     },
     "metadata": {
      "application/vnd.databricks.v1+output": {
       "addedWidgets": {},
       "aggData": [],
       "aggError": "",
       "aggOverflow": false,
       "aggSchema": [],
       "aggSeriesLimitReached": false,
       "aggType": "",
       "arguments": {},
       "columnCustomDisplayInfos": {},
       "data": [
        [
         3.0,
         "West",
         4989.0,
         "2000-08-23"
        ],
        [
         4.0,
         "West",
         4942.0,
         "2016-08-12"
        ],
        [
         7.0,
         "North",
         2606.2,
         "2005-07-19"
        ],
        [
         9.0,
         "North",
         3653.0,
         "2018-12-24"
        ],
        [
         11.0,
         "East",
         2606.2,
         "2018-04-22"
        ],
        [
         12.0,
         "West",
         840.0,
         "2000-03-22"
        ],
        [
         13.0,
         "West",
         2606.2,
         "2009-10-03"
        ],
        [
         16.0,
         "East",
         2606.2,
         "2003-10-01"
        ],
        [
         17.0,
         "East",
         2606.2,
         "2010-09-23"
        ],
        [
         18.0,
         "West",
         1191.0,
         "2016-01-23"
        ],
        [
         20.0,
         "North",
         4867.0,
         "2019-11-25"
        ]
       ],
       "datasetInfos": [],
       "dbfsResultPath": null,
       "isJsonSchema": true,
       "metadata": {},
       "overflow": false,
       "plotOptions": {
        "customPlotOptions": {},
        "displayType": "table",
        "pivotAggregation": null,
        "pivotColumns": null,
        "xColumns": null,
        "yColumns": null
       },
       "removedWidgets": [],
       "schema": [
        {
         "metadata": "{}",
         "name": "store_id",
         "type": "\"double\""
        },
        {
         "metadata": "{}",
         "name": "store_region",
         "type": "\"string\""
        },
        {
         "metadata": "{}",
         "name": "store_size",
         "type": "\"double\""
        },
        {
         "metadata": "{\"__detected_date_formats\": \"yyyy-M-d\"}",
         "name": "open_date",
         "type": "\"date\""
        }
       ],
       "type": "table"
      }
     },
     "output_type": "display_data"
    }
   ],
   "source": [
    "from pyspark.sql.functions import col, avg\n",
    "\n",
    "store_df = store_df.filter(col(\"store_id\").isNotNull())\n",
    "#display(store_df.select(avg(\"store_size\")).first()[0])\n",
    "avg_store_size = store_df.select(avg(\"store_size\")).first()[0]\n",
    "store_df = store_df.fillna({\"store_size\": avg_store_size})\n",
    "store_df = store_df.filter(col(\"open_date\").isNotNull())\n",
    "display(store_df.sample(fraction=0.5))\n"
   ]
  },
  {
   "cell_type": "code",
   "execution_count": 0,
   "metadata": {
    "application/vnd.databricks.v1+cell": {
     "cellMetadata": {
      "byteLimit": 2048000,
      "rowLimit": 10000
     },
     "inputWidgets": {},
     "nuid": "382bbeee-65d4-49fb-af6f-eb6b148d5b36",
     "showTitle": false,
     "tableResultSettingsMap": {},
     "title": ""
    }
   },
   "outputs": [
    {
     "output_type": "display_data",
     "data": {
      "text/html": [
       "<style scoped>\n",
       "  .table-result-container {\n",
       "    max-height: 300px;\n",
       "    overflow: auto;\n",
       "  }\n",
       "  table, th, td {\n",
       "    border: 1px solid black;\n",
       "    border-collapse: collapse;\n",
       "  }\n",
       "  th, td {\n",
       "    padding: 5px;\n",
       "  }\n",
       "  th {\n",
       "    text-align: left;\n",
       "  }\n",
       "</style><div class='table-result-container'><table class='table-result'><thead style='background-color: white'><tr><th>sale_id</th><th>store_id</th><th>product_id</th><th>sale_date</th><th>quantity</th><th>total_amount</th></tr></thead><tbody><tr><td>sale_560</td><td>15.0</td><td>4</td><td>2021-09-26</td><td>25</td><td>1177.75</td></tr><tr><td>sale_849</td><td>6.0</td><td>20</td><td>2020-03-15</td><td>9</td><td>306.65</td></tr><tr><td>sale_705</td><td>18.0</td><td>41</td><td>2022-12-06</td><td>65</td><td>1008.24</td></tr><tr><td>sale_366</td><td>14.0</td><td>33</td><td>2020-02-20</td><td>25</td><td>454.06</td></tr><tr><td>sale_246</td><td>8.0</td><td>9</td><td>2021-08-08</td><td>25</td><td>1051.71</td></tr><tr><td>sale_163</td><td>2.0</td><td>48</td><td>2022-04-28</td><td>47</td><td>950.63</td></tr><tr><td>sale_158</td><td>8.0</td><td>5</td><td>2021-03-16</td><td>86</td><td>1303.09</td></tr><tr><td>sale_462</td><td>7.0</td><td>11</td><td>2020-03-16</td><td>95</td><td>3746.55</td></tr><tr><td>sale_105</td><td>1.0</td><td>34</td><td>2022-07-04</td><td>42</td><td>211.15</td></tr><tr><td>sale_557</td><td>11.0</td><td>46</td><td>2020-10-16</td><td>53</td><td>1928.85</td></tr><tr><td>sale_410</td><td>18.0</td><td>47</td><td>2022-02-05</td><td>63</td><td>716.84</td></tr><tr><td>sale_308</td><td>17.0</td><td>17</td><td>2022-11-16</td><td>52</td><td>1019.29</td></tr><tr><td>sale_471</td><td>19.0</td><td>15</td><td>2021-03-29</td><td>63</td><td>2714.82</td></tr></tbody></table></div>"
      ]
     },
     "metadata": {
      "application/vnd.databricks.v1+output": {
       "addedWidgets": {},
       "aggData": [],
       "aggError": "",
       "aggOverflow": false,
       "aggSchema": [],
       "aggSeriesLimitReached": false,
       "aggType": "",
       "arguments": {},
       "columnCustomDisplayInfos": {},
       "data": [
        [
         "sale_560",
         15.0,
         4,
         "2021-09-26",
         25,
         1177.75
        ],
        [
         "sale_849",
         6.0,
         20,
         "2020-03-15",
         9,
         306.65
        ],
        [
         "sale_705",
         18.0,
         41,
         "2022-12-06",
         65,
         1008.24
        ],
        [
         "sale_366",
         14.0,
         33,
         "2020-02-20",
         25,
         454.06
        ],
        [
         "sale_246",
         8.0,
         9,
         "2021-08-08",
         25,
         1051.71
        ],
        [
         "sale_163",
         2.0,
         48,
         "2022-04-28",
         47,
         950.63
        ],
        [
         "sale_158",
         8.0,
         5,
         "2021-03-16",
         86,
         1303.09
        ],
        [
         "sale_462",
         7.0,
         11,
         "2020-03-16",
         95,
         3746.55
        ],
        [
         "sale_105",
         1.0,
         34,
         "2022-07-04",
         42,
         211.15
        ],
        [
         "sale_557",
         11.0,
         46,
         "2020-10-16",
         53,
         1928.85
        ],
        [
         "sale_410",
         18.0,
         47,
         "2022-02-05",
         63,
         716.84
        ],
        [
         "sale_308",
         17.0,
         17,
         "2022-11-16",
         52,
         1019.29
        ],
        [
         "sale_471",
         19.0,
         15,
         "2021-03-29",
         63,
         2714.82
        ]
       ],
       "datasetInfos": [],
       "dbfsResultPath": null,
       "isJsonSchema": true,
       "metadata": {},
       "overflow": false,
       "plotOptions": {
        "customPlotOptions": {},
        "displayType": "table",
        "pivotAggregation": null,
        "pivotColumns": null,
        "xColumns": null,
        "yColumns": null
       },
       "removedWidgets": [],
       "schema": [
        {
         "metadata": "{}",
         "name": "sale_id",
         "type": "\"string\""
        },
        {
         "metadata": "{}",
         "name": "store_id",
         "type": "\"double\""
        },
        {
         "metadata": "{}",
         "name": "product_id",
         "type": "\"integer\""
        },
        {
         "metadata": "{\"__detected_date_formats\": \"yyyy-M-d\"}",
         "name": "sale_date",
         "type": "\"date\""
        },
        {
         "metadata": "{}",
         "name": "quantity",
         "type": "\"integer\""
        },
        {
         "metadata": "{}",
         "name": "total_amount",
         "type": "\"double\""
        }
       ],
       "type": "table"
      }
     },
     "output_type": "display_data"
    }
   ],
   "source": [
    "from pyspark.sql.functions import col, to_date \n",
    "\n",
    "sales_df = sales_df.fillna({\"quantity\": 0, \"total_amount\": 0.0})\n",
    "sales_df = sales_df.dropDuplicates()\n",
    "sales_df = sales_df.filter(col(\"sale_id\").isNotNull())\n",
    "sales_df = sales_df.filter(col(\"store_id\").isNotNull())\n",
    "sales_df = sales_df.filter(col(\"sale_date\").isNotNull())\n",
    "sales_df = sales_df.filter((col(\"quantity\") > 0) & (col(\"total_amount\") > 0.0))\n",
    "\n",
    "display(sales_df.sample(fraction=0.015))\n"
   ]
  },
  {
   "cell_type": "code",
   "execution_count": 0,
   "metadata": {
    "application/vnd.databricks.v1+cell": {
     "cellMetadata": {
      "byteLimit": 2048000,
      "rowLimit": 10000
     },
     "inputWidgets": {},
     "nuid": "2bebded8-e08a-4f1e-9bbd-fee6ca54cdd2",
     "showTitle": false,
     "tableResultSettingsMap": {},
     "title": ""
    }
   },
   "outputs": [
    {
     "output_type": "display_data",
     "data": {
      "text/html": [
       "<style scoped>\n",
       "  .table-result-container {\n",
       "    max-height: 300px;\n",
       "    overflow: auto;\n",
       "  }\n",
       "  table, th, td {\n",
       "    border: 1px solid black;\n",
       "    border-collapse: collapse;\n",
       "  }\n",
       "  th, td {\n",
       "    padding: 5px;\n",
       "  }\n",
       "  th {\n",
       "    text-align: left;\n",
       "  }\n",
       "</style><div class='table-result-container'><table class='table-result'><thead style='background-color: white'><tr><th>store_id</th><th>sale_id</th><th>product_id</th><th>sale_date</th><th>quantity</th><th>total_amount</th><th>store_region</th><th>store_size</th><th>open_date</th></tr></thead><tbody><tr><td>20.0</td><td>sale_139</td><td>46</td><td>2022-08-16</td><td>41</td><td>375.12</td><td>North</td><td>4867.0</td><td>2019-11-25</td></tr><tr><td>11.0</td><td>sale_559</td><td>1</td><td>2021-09-20</td><td>34</td><td>420.2</td><td>East</td><td>null</td><td>2018-04-22</td></tr><tr><td>16.0</td><td>sale_898</td><td>16</td><td>2020-06-28</td><td>3</td><td>139.42</td><td>East</td><td>null</td><td>2003-10-01</td></tr><tr><td>8.0</td><td>sale_909</td><td>3</td><td>2022-10-27</td><td>89</td><td>1274.02</td><td>West</td><td>691.0</td><td>null</td></tr><tr><td>13.0</td><td>sale_411</td><td>18</td><td>2020-07-03</td><td>77</td><td>1109.65</td><td>West</td><td>null</td><td>2009-10-03</td></tr><tr><td>19.0</td><td>sale_531</td><td>19</td><td>2020-07-03</td><td>36</td><td>356.3</td><td>North</td><td>null</td><td>2018-10-12</td></tr><tr><td>11.0</td><td>sale_592</td><td>21</td><td>2022-05-29</td><td>42</td><td>2007.06</td><td>East</td><td>null</td><td>2018-04-22</td></tr></tbody></table></div>"
      ]
     },
     "metadata": {
      "application/vnd.databricks.v1+output": {
       "addedWidgets": {},
       "aggData": [],
       "aggError": "",
       "aggOverflow": false,
       "aggSchema": [],
       "aggSeriesLimitReached": false,
       "aggType": "",
       "arguments": {},
       "columnCustomDisplayInfos": {},
       "data": [
        [
         20.0,
         "sale_139",
         46,
         "2022-08-16",
         41,
         375.12,
         "North",
         4867.0,
         "2019-11-25"
        ],
        [
         11.0,
         "sale_559",
         1,
         "2021-09-20",
         34,
         420.2,
         "East",
         null,
         "2018-04-22"
        ],
        [
         16.0,
         "sale_898",
         16,
         "2020-06-28",
         3,
         139.42,
         "East",
         null,
         "2003-10-01"
        ],
        [
         8.0,
         "sale_909",
         3,
         "2022-10-27",
         89,
         1274.02,
         "West",
         691.0,
         null
        ],
        [
         13.0,
         "sale_411",
         18,
         "2020-07-03",
         77,
         1109.65,
         "West",
         null,
         "2009-10-03"
        ],
        [
         19.0,
         "sale_531",
         19,
         "2020-07-03",
         36,
         356.3,
         "North",
         null,
         "2018-10-12"
        ],
        [
         11.0,
         "sale_592",
         21,
         "2022-05-29",
         42,
         2007.06,
         "East",
         null,
         "2018-04-22"
        ]
       ],
       "datasetInfos": [],
       "dbfsResultPath": null,
       "isJsonSchema": true,
       "metadata": {},
       "overflow": false,
       "plotOptions": {
        "customPlotOptions": {},
        "displayType": "table",
        "pivotAggregation": null,
        "pivotColumns": null,
        "xColumns": null,
        "yColumns": null
       },
       "removedWidgets": [],
       "schema": [
        {
         "metadata": "{}",
         "name": "store_id",
         "type": "\"double\""
        },
        {
         "metadata": "{}",
         "name": "sale_id",
         "type": "\"string\""
        },
        {
         "metadata": "{}",
         "name": "product_id",
         "type": "\"integer\""
        },
        {
         "metadata": "{\"__detected_date_formats\": \"yyyy-M-d\"}",
         "name": "sale_date",
         "type": "\"date\""
        },
        {
         "metadata": "{}",
         "name": "quantity",
         "type": "\"integer\""
        },
        {
         "metadata": "{}",
         "name": "total_amount",
         "type": "\"double\""
        },
        {
         "metadata": "{}",
         "name": "store_region",
         "type": "\"string\""
        },
        {
         "metadata": "{}",
         "name": "store_size",
         "type": "\"double\""
        },
        {
         "metadata": "{\"__detected_date_formats\": \"yyyy-M-d\"}",
         "name": "open_date",
         "type": "\"date\""
        }
       ],
       "type": "table"
      }
     },
     "output_type": "display_data"
    }
   ],
   "source": [
    "sales_store_df = sales_df.join(store_df, on=\"store_id\", how=\"inner\")\n",
    "display(sales_store_df.sample(fraction=0.01))"
   ]
  },
  {
   "cell_type": "code",
   "execution_count": 0,
   "metadata": {
    "application/vnd.databricks.v1+cell": {
     "cellMetadata": {
      "byteLimit": 2048000,
      "rowLimit": 10000
     },
     "inputWidgets": {},
     "nuid": "19d4e460-4d2c-482c-bce1-0f228173c933",
     "showTitle": false,
     "tableResultSettingsMap": {},
     "title": ""
    }
   },
   "outputs": [
    {
     "output_type": "display_data",
     "data": {
      "text/html": [
       "<style scoped>\n",
       "  .table-result-container {\n",
       "    max-height: 300px;\n",
       "    overflow: auto;\n",
       "  }\n",
       "  table, th, td {\n",
       "    border: 1px solid black;\n",
       "    border-collapse: collapse;\n",
       "  }\n",
       "  th, td {\n",
       "    padding: 5px;\n",
       "  }\n",
       "  th {\n",
       "    text-align: left;\n",
       "  }\n",
       "</style><div class='table-result-container'><table class='table-result'><thead style='background-color: white'><tr><th>store_id</th><th>sale_id</th><th>product_id</th><th>sale_date</th><th>quantity</th><th>total_amount</th><th>store_region</th><th>store_size</th><th>open_date</th><th>sale_year</th><th>sales_per_sqft</th></tr></thead><tbody><tr><td>2.0</td><td>sale_691</td><td>30</td><td>2022-08-15</td><td>34</td><td>660.9</td><td>West</td><td>1510.0</td><td>2009-07-07</td><td>2022</td><td>0.44</td></tr><tr><td>9.0</td><td>sale_936</td><td>37</td><td>2020-11-22</td><td>68</td><td>1127.59</td><td>North</td><td>3653.0</td><td>2018-12-24</td><td>2020</td><td>0.31</td></tr><tr><td>2.0</td><td>sale_475</td><td>14</td><td>2022-12-04</td><td>31</td><td>211.15</td><td>West</td><td>1510.0</td><td>2009-07-07</td><td>2022</td><td>0.14</td></tr><tr><td>4.0</td><td>sale_350</td><td>4</td><td>2021-07-18</td><td>89</td><td>1784.07</td><td>West</td><td>4942.0</td><td>2016-08-12</td><td>2021</td><td>0.36</td></tr><tr><td>12.0</td><td>sale_728</td><td>42</td><td>2021-12-07</td><td>71</td><td>1721.84</td><td>West</td><td>840.0</td><td>2000-03-22</td><td>2021</td><td>2.05</td></tr><tr><td>3.0</td><td>sale_258</td><td>21</td><td>2021-09-29</td><td>92</td><td>4042.91</td><td>West</td><td>4989.0</td><td>2000-08-23</td><td>2021</td><td>0.81</td></tr><tr><td>14.0</td><td>sale_6</td><td>3</td><td>2022-08-20</td><td>83</td><td>522.16</td><td>North</td><td>1116.0</td><td>2003-06-30</td><td>2022</td><td>0.47</td></tr><tr><td>18.0</td><td>sale_998</td><td>36</td><td>2021-09-17</td><td>50</td><td>1167.35</td><td>West</td><td>1191.0</td><td>2016-01-23</td><td>2021</td><td>0.98</td></tr></tbody></table></div>"
      ]
     },
     "metadata": {
      "application/vnd.databricks.v1+output": {
       "addedWidgets": {},
       "aggData": [],
       "aggError": "",
       "aggOverflow": false,
       "aggSchema": [],
       "aggSeriesLimitReached": false,
       "aggType": "",
       "arguments": {},
       "columnCustomDisplayInfos": {},
       "data": [
        [
         2.0,
         "sale_691",
         30,
         "2022-08-15",
         34,
         660.9,
         "West",
         1510.0,
         "2009-07-07",
         2022,
         0.44
        ],
        [
         9.0,
         "sale_936",
         37,
         "2020-11-22",
         68,
         1127.59,
         "North",
         3653.0,
         "2018-12-24",
         2020,
         0.31
        ],
        [
         2.0,
         "sale_475",
         14,
         "2022-12-04",
         31,
         211.15,
         "West",
         1510.0,
         "2009-07-07",
         2022,
         0.14
        ],
        [
         4.0,
         "sale_350",
         4,
         "2021-07-18",
         89,
         1784.07,
         "West",
         4942.0,
         "2016-08-12",
         2021,
         0.36
        ],
        [
         12.0,
         "sale_728",
         42,
         "2021-12-07",
         71,
         1721.84,
         "West",
         840.0,
         "2000-03-22",
         2021,
         2.05
        ],
        [
         3.0,
         "sale_258",
         21,
         "2021-09-29",
         92,
         4042.91,
         "West",
         4989.0,
         "2000-08-23",
         2021,
         0.81
        ],
        [
         14.0,
         "sale_6",
         3,
         "2022-08-20",
         83,
         522.16,
         "North",
         1116.0,
         "2003-06-30",
         2022,
         0.47
        ],
        [
         18.0,
         "sale_998",
         36,
         "2021-09-17",
         50,
         1167.35,
         "West",
         1191.0,
         "2016-01-23",
         2021,
         0.98
        ]
       ],
       "datasetInfos": [],
       "dbfsResultPath": null,
       "isJsonSchema": true,
       "metadata": {},
       "overflow": false,
       "plotOptions": {
        "customPlotOptions": {},
        "displayType": "table",
        "pivotAggregation": null,
        "pivotColumns": null,
        "xColumns": null,
        "yColumns": null
       },
       "removedWidgets": [],
       "schema": [
        {
         "metadata": "{}",
         "name": "store_id",
         "type": "\"double\""
        },
        {
         "metadata": "{}",
         "name": "sale_id",
         "type": "\"string\""
        },
        {
         "metadata": "{}",
         "name": "product_id",
         "type": "\"integer\""
        },
        {
         "metadata": "{\"__detected_date_formats\": \"yyyy-M-d\"}",
         "name": "sale_date",
         "type": "\"date\""
        },
        {
         "metadata": "{}",
         "name": "quantity",
         "type": "\"integer\""
        },
        {
         "metadata": "{}",
         "name": "total_amount",
         "type": "\"double\""
        },
        {
         "metadata": "{}",
         "name": "store_region",
         "type": "\"string\""
        },
        {
         "metadata": "{}",
         "name": "store_size",
         "type": "\"double\""
        },
        {
         "metadata": "{\"__detected_date_formats\": \"yyyy-M-d\"}",
         "name": "open_date",
         "type": "\"date\""
        },
        {
         "metadata": "{}",
         "name": "sale_year",
         "type": "\"integer\""
        },
        {
         "metadata": "{}",
         "name": "sales_per_sqft",
         "type": "\"double\""
        }
       ],
       "type": "table"
      }
     },
     "output_type": "display_data"
    }
   ],
   "source": [
    "from pyspark.sql.functions import year, col, round\n",
    "\n",
    "sales_store_df = sales_store_df.withColumn(\"sale_year\", year(col(\"sale_date\")))\n",
    "sales_store_df = sales_store_df.filter(col(\"store_size\").isNotNull())\n",
    "sales_store_df = sales_store_df.withColumn(\"sales_per_sqft\", round(col(\"total_amount\") / col(\"store_size\"), 2))\n",
    "display(sales_store_df.sample(fraction=0.04))"
   ]
  },
  {
   "cell_type": "code",
   "execution_count": 0,
   "metadata": {
    "application/vnd.databricks.v1+cell": {
     "cellMetadata": {},
     "inputWidgets": {},
     "nuid": "dfa579ec-fdf3-47fb-bbf7-56b7e0336560",
     "showTitle": false,
     "tableResultSettingsMap": {},
     "title": ""
    }
   },
   "outputs": [],
   "source": [
    "sales_store_df.createOrReplaceTempView(\"sales_store\")"
   ]
  },
  {
   "cell_type": "code",
   "execution_count": 0,
   "metadata": {
    "application/vnd.databricks.v1+cell": {
     "cellMetadata": {
      "byteLimit": 2048000,
      "rowLimit": 10000
     },
     "inputWidgets": {},
     "nuid": "c83b746c-7f7f-40ea-9bb6-ba0515e87bc2",
     "showTitle": false,
     "tableResultSettingsMap": {},
     "title": ""
    }
   },
   "outputs": [
    {
     "output_type": "display_data",
     "data": {
      "text/html": [
       "<style scoped>\n",
       "  .table-result-container {\n",
       "    max-height: 300px;\n",
       "    overflow: auto;\n",
       "  }\n",
       "  table, th, td {\n",
       "    border: 1px solid black;\n",
       "    border-collapse: collapse;\n",
       "  }\n",
       "  th, td {\n",
       "    padding: 5px;\n",
       "  }\n",
       "  th {\n",
       "    text-align: left;\n",
       "  }\n",
       "</style><div class='table-result-container'><table class='table-result'><thead style='background-color: white'><tr><th>store_id</th><th>store_region</th><th>total_sales</th><th>total_quantity</th></tr></thead><tbody><tr><td>20.0</td><td>North</td><td>53057.0</td><td>2138</td></tr><tr><td>1.0</td><td>West</td><td>41750.0</td><td>1556</td></tr><tr><td>8.0</td><td>West</td><td>67746.0</td><td>2404</td></tr><tr><td>3.0</td><td>West</td><td>40980.0</td><td>1638</td></tr><tr><td>4.0</td><td>West</td><td>38285.0</td><td>1240</td></tr><tr><td>2.0</td><td>West</td><td>47392.0</td><td>1648</td></tr><tr><td>12.0</td><td>West</td><td>34735.0</td><td>1372</td></tr><tr><td>14.0</td><td>North</td><td>41333.0</td><td>1778</td></tr><tr><td>9.0</td><td>North</td><td>49838.0</td><td>1902</td></tr><tr><td>18.0</td><td>West</td><td>32691.0</td><td>1503</td></tr></tbody></table></div>"
      ]
     },
     "metadata": {
      "application/vnd.databricks.v1+output": {
       "addedWidgets": {},
       "aggData": [],
       "aggError": "",
       "aggOverflow": false,
       "aggSchema": [],
       "aggSeriesLimitReached": false,
       "aggType": "",
       "arguments": {},
       "columnCustomDisplayInfos": {},
       "data": [
        [
         20.0,
         "North",
         53057.0,
         2138
        ],
        [
         1.0,
         "West",
         41750.0,
         1556
        ],
        [
         8.0,
         "West",
         67746.0,
         2404
        ],
        [
         3.0,
         "West",
         40980.0,
         1638
        ],
        [
         4.0,
         "West",
         38285.0,
         1240
        ],
        [
         2.0,
         "West",
         47392.0,
         1648
        ],
        [
         12.0,
         "West",
         34735.0,
         1372
        ],
        [
         14.0,
         "North",
         41333.0,
         1778
        ],
        [
         9.0,
         "North",
         49838.0,
         1902
        ],
        [
         18.0,
         "West",
         32691.0,
         1503
        ]
       ],
       "datasetInfos": [],
       "dbfsResultPath": null,
       "isJsonSchema": true,
       "metadata": {},
       "overflow": false,
       "plotOptions": {
        "customPlotOptions": {},
        "displayType": "table",
        "pivotAggregation": null,
        "pivotColumns": null,
        "xColumns": null,
        "yColumns": null
       },
       "removedWidgets": [],
       "schema": [
        {
         "metadata": "{}",
         "name": "store_id",
         "type": "\"double\""
        },
        {
         "metadata": "{}",
         "name": "store_region",
         "type": "\"string\""
        },
        {
         "metadata": "{}",
         "name": "total_sales",
         "type": "\"double\""
        },
        {
         "metadata": "{}",
         "name": "total_quantity",
         "type": "\"long\""
        }
       ],
       "type": "table"
      }
     },
     "output_type": "display_data"
    }
   ],
   "source": [
    "sales_store_sql = spark.sql(\"\"\"\n",
    "    select \n",
    "        store_id, \n",
    "        store_region,\n",
    "        round(sum(total_amount),0) as total_sales,\n",
    "        sum(quantity) as total_quantity\n",
    "    from sales_store\n",
    "    group by store_id, store_region\n",
    "\"\"\")\n",
    "display(sales_store_sql)"
   ]
  },
  {
   "cell_type": "code",
   "execution_count": 0,
   "metadata": {
    "application/vnd.databricks.v1+cell": {
     "cellMetadata": {
      "byteLimit": 2048000,
      "rowLimit": 10000
     },
     "inputWidgets": {},
     "nuid": "924cfc5b-39f5-4281-a5b6-ff0aec812773",
     "showTitle": false,
     "tableResultSettingsMap": {},
     "title": ""
    }
   },
   "outputs": [
    {
     "output_type": "display_data",
     "data": {
      "text/html": [
       "<style scoped>\n",
       "  .table-result-container {\n",
       "    max-height: 300px;\n",
       "    overflow: auto;\n",
       "  }\n",
       "  table, th, td {\n",
       "    border: 1px solid black;\n",
       "    border-collapse: collapse;\n",
       "  }\n",
       "  th, td {\n",
       "    padding: 5px;\n",
       "  }\n",
       "  th {\n",
       "    text-align: left;\n",
       "  }\n",
       "</style><div class='table-result-container'><table class='table-result'><thead style='background-color: white'><tr><th>product_id</th><th>total_quantity</th></tr></thead><tbody><tr><td>15</td><td>736</td></tr><tr><td>26</td><td>634</td></tr><tr><td>32</td><td>592</td></tr><tr><td>28</td><td>592</td></tr><tr><td>13</td><td>552</td></tr></tbody></table></div>"
      ]
     },
     "metadata": {
      "application/vnd.databricks.v1+output": {
       "addedWidgets": {},
       "aggData": [],
       "aggError": "",
       "aggOverflow": false,
       "aggSchema": [],
       "aggSeriesLimitReached": false,
       "aggType": "",
       "arguments": {},
       "columnCustomDisplayInfos": {},
       "data": [
        [
         15,
         736
        ],
        [
         26,
         634
        ],
        [
         32,
         592
        ],
        [
         28,
         592
        ],
        [
         13,
         552
        ]
       ],
       "datasetInfos": [],
       "dbfsResultPath": null,
       "isJsonSchema": true,
       "metadata": {},
       "overflow": false,
       "plotOptions": {
        "customPlotOptions": {},
        "displayType": "table",
        "pivotAggregation": null,
        "pivotColumns": null,
        "xColumns": null,
        "yColumns": null
       },
       "removedWidgets": [],
       "schema": [
        {
         "metadata": "{}",
         "name": "product_id",
         "type": "\"integer\""
        },
        {
         "metadata": "{}",
         "name": "total_quantity",
         "type": "\"long\""
        }
       ],
       "type": "table"
      }
     },
     "output_type": "display_data"
    }
   ],
   "source": [
    "top_product_sql = spark.sql(\"\"\"\n",
    "                                select \n",
    "                                    product_id,\n",
    "                                    sum(quantity) as total_quantity\n",
    "                                from sales_store\n",
    "                                group by product_id\n",
    "                                order by total_quantity desc\n",
    "                                limit 5\n",
    "                            \"\"\")\n",
    "display(top_product_sql)"
   ]
  },
  {
   "cell_type": "code",
   "execution_count": 0,
   "metadata": {
    "application/vnd.databricks.v1+cell": {
     "cellMetadata": {
      "byteLimit": 2048000,
      "rowLimit": 10000
     },
     "inputWidgets": {},
     "nuid": "0bd63d9f-195e-4c41-a881-ad3b4c68f33d",
     "showTitle": false,
     "tableResultSettingsMap": {},
     "title": ""
    }
   },
   "outputs": [
    {
     "output_type": "display_data",
     "data": {
      "text/html": [
       "<style scoped>\n",
       "  .table-result-container {\n",
       "    max-height: 300px;\n",
       "    overflow: auto;\n",
       "  }\n",
       "  table, th, td {\n",
       "    border: 1px solid black;\n",
       "    border-collapse: collapse;\n",
       "  }\n",
       "  th, td {\n",
       "    padding: 5px;\n",
       "  }\n",
       "  th {\n",
       "    text-align: left;\n",
       "  }\n",
       "</style><div class='table-result-container'><table class='table-result'><thead style='background-color: white'><tr><th>store_id</th><th>store_region</th><th>total_sales</th><th>total_quantity</th></tr></thead><tbody><tr><td>20.0</td><td>North</td><td>53057.0</td><td>2138</td></tr><tr><td>1.0</td><td>West</td><td>41750.0</td><td>1556</td></tr><tr><td>8.0</td><td>West</td><td>67746.0</td><td>2404</td></tr><tr><td>3.0</td><td>West</td><td>40980.0</td><td>1638</td></tr><tr><td>4.0</td><td>West</td><td>38285.0</td><td>1240</td></tr><tr><td>2.0</td><td>West</td><td>47392.0</td><td>1648</td></tr><tr><td>12.0</td><td>West</td><td>34735.0</td><td>1372</td></tr><tr><td>14.0</td><td>North</td><td>41333.0</td><td>1778</td></tr><tr><td>9.0</td><td>North</td><td>49838.0</td><td>1902</td></tr><tr><td>18.0</td><td>West</td><td>32691.0</td><td>1503</td></tr></tbody></table></div>"
      ]
     },
     "metadata": {
      "application/vnd.databricks.v1+output": {
       "addedWidgets": {},
       "aggData": [],
       "aggError": "",
       "aggOverflow": false,
       "aggSchema": [],
       "aggSeriesLimitReached": false,
       "aggType": "",
       "arguments": {},
       "columnCustomDisplayInfos": {},
       "data": [
        [
         20.0,
         "North",
         53057.0,
         2138
        ],
        [
         1.0,
         "West",
         41750.0,
         1556
        ],
        [
         8.0,
         "West",
         67746.0,
         2404
        ],
        [
         3.0,
         "West",
         40980.0,
         1638
        ],
        [
         4.0,
         "West",
         38285.0,
         1240
        ],
        [
         2.0,
         "West",
         47392.0,
         1648
        ],
        [
         12.0,
         "West",
         34735.0,
         1372
        ],
        [
         14.0,
         "North",
         41333.0,
         1778
        ],
        [
         9.0,
         "North",
         49838.0,
         1902
        ],
        [
         18.0,
         "West",
         32691.0,
         1503
        ]
       ],
       "datasetInfos": [],
       "dbfsResultPath": null,
       "isJsonSchema": true,
       "metadata": {},
       "overflow": false,
       "plotOptions": {
        "customPlotOptions": {},
        "displayType": "table",
        "pivotAggregation": null,
        "pivotColumns": null,
        "xColumns": null,
        "yColumns": null
       },
       "removedWidgets": [],
       "schema": [
        {
         "metadata": "{}",
         "name": "store_id",
         "type": "\"double\""
        },
        {
         "metadata": "{}",
         "name": "store_region",
         "type": "\"string\""
        },
        {
         "metadata": "{}",
         "name": "total_sales",
         "type": "\"double\""
        },
        {
         "metadata": "{}",
         "name": "total_quantity",
         "type": "\"long\""
        }
       ],
       "type": "table"
      }
     },
     "output_type": "display_data"
    }
   ],
   "source": [
    "sales_store_sql.createOrReplaceTempView(\"store_sales_summary\")\n",
    "display(spark.sql(\"select * from store_sales_summary\"))"
   ]
  },
  {
   "cell_type": "code",
   "execution_count": 0,
   "metadata": {
    "application/vnd.databricks.v1+cell": {
     "cellMetadata": {
      "byteLimit": 2048000,
      "rowLimit": 10000
     },
     "inputWidgets": {},
     "nuid": "764a73af-8da7-4cc7-a949-fa0fe496f65f",
     "showTitle": false,
     "tableResultSettingsMap": {},
     "title": ""
    }
   },
   "outputs": [
    {
     "output_type": "display_data",
     "data": {
      "text/html": [
       "<style scoped>\n",
       "  .table-result-container {\n",
       "    max-height: 300px;\n",
       "    overflow: auto;\n",
       "  }\n",
       "  table, th, td {\n",
       "    border: 1px solid black;\n",
       "    border-collapse: collapse;\n",
       "  }\n",
       "  th, td {\n",
       "    padding: 5px;\n",
       "  }\n",
       "  th {\n",
       "    text-align: left;\n",
       "  }\n",
       "</style><div class='table-result-container'><table class='table-result'><thead style='background-color: white'><tr><th>store_id</th><th>total_sales</th></tr></thead><tbody><tr><td>8.0</td><td>67746.0</td></tr><tr><td>20.0</td><td>53057.0</td></tr><tr><td>9.0</td><td>49838.0</td></tr><tr><td>2.0</td><td>47392.0</td></tr><tr><td>1.0</td><td>41750.0</td></tr></tbody></table></div>"
      ]
     },
     "metadata": {
      "application/vnd.databricks.v1+output": {
       "addedWidgets": {},
       "aggData": [],
       "aggError": "",
       "aggOverflow": false,
       "aggSchema": [],
       "aggSeriesLimitReached": false,
       "aggType": "",
       "arguments": {},
       "columnCustomDisplayInfos": {},
       "data": [
        [
         8.0,
         67746.0
        ],
        [
         20.0,
         53057.0
        ],
        [
         9.0,
         49838.0
        ],
        [
         2.0,
         47392.0
        ],
        [
         1.0,
         41750.0
        ]
       ],
       "datasetInfos": [],
       "dbfsResultPath": null,
       "isJsonSchema": true,
       "metadata": {},
       "overflow": false,
       "plotOptions": {
        "customPlotOptions": {},
        "displayType": "table",
        "pivotAggregation": null,
        "pivotColumns": null,
        "xColumns": null,
        "yColumns": null
       },
       "removedWidgets": [],
       "schema": [
        {
         "metadata": "{}",
         "name": "store_id",
         "type": "\"double\""
        },
        {
         "metadata": "{}",
         "name": "total_sales",
         "type": "\"double\""
        }
       ],
       "type": "table"
      }
     },
     "output_type": "display_data"
    }
   ],
   "source": [
    "top_store_sql = spark.sql(\"\"\"\n",
    "                        select store_id,\n",
    "                        total_sales\n",
    "                        from store_sales_summary\n",
    "                        order by total_sales desc\n",
    "                        limit 5\n",
    "                    \"\"\")\n",
    "display(top_store_sql)                    "
   ]
  },
  {
   "cell_type": "code",
   "execution_count": 0,
   "metadata": {
    "application/vnd.databricks.v1+cell": {
     "cellMetadata": {
      "byteLimit": 2048000,
      "rowLimit": 10000
     },
     "inputWidgets": {},
     "nuid": "d491b4fd-99b1-432f-8824-a9df8333a85f",
     "showTitle": false,
     "tableResultSettingsMap": {},
     "title": ""
    }
   },
   "outputs": [],
   "source": [
    "top_product_sql.write.parquet(\"/Volumes/upload/default/files/top_product\")\n",
    "top_store_sql.write.parquet(\"/Volumes/upload/default/files/top_store\")"
   ]
  }
 ],
 "metadata": {
  "application/vnd.databricks.v1+notebook": {
   "computePreferences": null,
   "dashboards": [],
   "environmentMetadata": {
    "base_environment": "",
    "environment_version": "2"
   },
   "inputWidgetPreferences": null,
   "language": "python",
   "notebookMetadata": {
    "pythonIndentUnit": 4
   },
   "notebookName": "Project-Solution",
   "widgets": {}
  },
  "language_info": {
   "name": "python"
  }
 },
 "nbformat": 4,
 "nbformat_minor": 0
}